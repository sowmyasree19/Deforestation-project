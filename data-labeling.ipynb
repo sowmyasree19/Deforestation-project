{
 "cells": [
  {
   "cell_type": "code",
   "execution_count": null,
   "metadata": {
    "_cell_guid": "b1076dfc-b9ad-4769-8c92-a6c4dae69d19",
    "_uuid": "8f2839f25d086af736a60e9eeb907d3b93b6e0e5",
    "trusted": true
   },
   "outputs": [],
   "source": [
    "\n",
    "import numpy as np # linear algebra\n",
    "import pandas as pd # data processing, CSV file I/O (e.g. pd.read_csv)\n",
    "\n",
    "\n",
    "import os\n",
    "for dirname, _, filenames in os.walk('/kaggle/input'):\n",
    "    for filename in filenames:\n",
    "        print(os.path.join(dirname, filename))\n",
    "\n"
   ]
  },
  {
   "cell_type": "code",
   "execution_count": null,
   "metadata": {
    "execution": {
     "iopub.execute_input": "2024-11-04T09:41:01.935023Z",
     "iopub.status.busy": "2024-11-04T09:41:01.934552Z",
     "iopub.status.idle": "2024-11-04T09:41:07.960991Z",
     "shell.execute_reply": "2024-11-04T09:41:07.959702Z",
     "shell.execute_reply.started": "2024-11-04T09:41:01.934983Z"
    },
    "trusted": true
   },
   "outputs": [],
   "source": [
    "import pandas as pd\n",
    "import cv2\n",
    "import numpy as np\n",
    "\n",
    "# Load metadata\n",
    "metadata = pd.read_csv('/kaggle/input/mydataset/Forest Segmented/meta_data.csv')\n",
    "\n",
    "\n",
    "threshold = 0.4\n",
    "\n",
    "# Function to determine label\n",
    "def get_label(mask_path, threshold=0.4):\n",
    "    mask = cv2.imread(mask_path, cv2.IMREAD_GRAYSCALE)\n",
    "    forested_pixels = np.sum(mask == 255)  \n",
    "    total_pixels = mask.size\n",
    "    forested_ratio = forested_pixels / total_pixels\n",
    "    return 'forested' if forested_ratio >= threshold else 'deforested'\n",
    "\n",
    "# Apply labeling\n",
    "metadata['label'] = metadata['mask'].apply(lambda x: get_label(f\"/kaggle/input/mydataset/Forest Segmented/masks/{x}\", threshold))\n",
    "\n",
    "metadata.to_csv('meta_data_with_labels_255_40.csv', index=False)\n"
   ]
  }
 ],
 "metadata": {
  "kaggle": {
   "accelerator": "none",
   "dataSources": [
    {
     "datasetId": 6007375,
     "sourceId": 9801740,
     "sourceType": "datasetVersion"
    }
   ],
   "dockerImageVersionId": 30786,
   "isGpuEnabled": false,
   "isInternetEnabled": true,
   "language": "python",
   "sourceType": "notebook"
  },
  "kernelspec": {
   "display_name": "Python 3",
   "language": "python",
   "name": "python3"
  },
  "language_info": {
   "codemirror_mode": {
    "name": "ipython",
    "version": 3
   },
   "file_extension": ".py",
   "mimetype": "text/x-python",
   "name": "python",
   "nbconvert_exporter": "python",
   "pygments_lexer": "ipython3",
   "version": "3.10.14"
  }
 },
 "nbformat": 4,
 "nbformat_minor": 4
}
